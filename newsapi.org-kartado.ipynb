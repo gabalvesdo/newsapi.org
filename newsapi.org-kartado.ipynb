{
 "cells": [
  {
   "cell_type": "code",
   "execution_count": 46,
   "id": "ba46c415",
   "metadata": {},
   "outputs": [],
   "source": [
    "import requests\n",
    "\n",
    "def getNews():\n",
    "    api_key = \"411c37147a174a5e86278e4ee7137548\"\n",
    "    url = \"https://newsapi.org/v2/top-headlines?country=us&apiKey=\"+api_key\n",
    "    news = requests.get(url).json()\n",
    "    \n",
    "    articles = news[\"articles\"]\n",
    "    \n",
    "    my_articles = []\n",
    "    my_author = []\n",
    "    my_description = []\n",
    "    my_news = \"\"\n",
    "    \n",
    "    for articles in articles:\n",
    "        if articles[\"title\"] == None:\n",
    "            my_articles.append(\"--\")\n",
    "        else:\n",
    "            my_articles.append(articles[\"title\"])\n",
    "            \n",
    "        if articles[\"author\"] == None:\n",
    "            my_author.append(\"--\")\n",
    "        else:\n",
    "            my_author.append(articles[\"author\"])\n",
    "            \n",
    "        if articles[\"description\"] == None:\n",
    "            my_description.append(\"--\")\n",
    "        else:\n",
    "            my_description.append(articles[\"description\"])\n",
    "        \n",
    "    for i in range(20):\n",
    "        my_news = my_news + str(i+1) + \". \" + my_author[i] + \"\\n\" + my_articles[i] + \"\\n\" + my_description[i] + \"\\n\\n\\n\"\n",
    "        \n",
    "    \n",
    "    f = open(\"C:\\\\Users\\\\Gabriel\\\\Desktop\\\\python\\\\output.txt\", \"w\")\n",
    "    f.write(my_news)\n",
    "    f.close()\n",
    "    \n",
    "getNews()"
   ]
  },
  {
   "cell_type": "code",
   "execution_count": 7,
   "id": "534f60d0",
   "metadata": {
    "scrolled": false
   },
   "outputs": [
    {
     "ename": "SyntaxError",
     "evalue": "Missing parentheses in call to 'print'. Did you mean print(r.json)? (4243681865.py, line 12)",
     "output_type": "error",
     "traceback": [
      "\u001b[1;36m  File \u001b[1;32m\"C:\\Users\\Gabriel\\AppData\\Local\\Temp\\ipykernel_13644\\4243681865.py\"\u001b[1;36m, line \u001b[1;32m12\u001b[0m\n\u001b[1;33m    print r.json\u001b[0m\n\u001b[1;37m          ^\u001b[0m\n\u001b[1;31mSyntaxError\u001b[0m\u001b[1;31m:\u001b[0m Missing parentheses in call to 'print'. Did you mean print(r.json)?\n"
     ]
    }
   ],
   "source": []
  },
  {
   "cell_type": "code",
   "execution_count": null,
   "id": "15ec33e0",
   "metadata": {},
   "outputs": [],
   "source": []
  }
 ],
 "metadata": {
  "kernelspec": {
   "display_name": "Python 3 (ipykernel)",
   "language": "python",
   "name": "python3"
  },
  "language_info": {
   "codemirror_mode": {
    "name": "ipython",
    "version": 3
   },
   "file_extension": ".py",
   "mimetype": "text/x-python",
   "name": "python",
   "nbconvert_exporter": "python",
   "pygments_lexer": "ipython3",
   "version": "3.9.13"
  }
 },
 "nbformat": 4,
 "nbformat_minor": 5
}
